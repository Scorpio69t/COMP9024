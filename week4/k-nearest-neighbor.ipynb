{
 "cells": [
  {
   "cell_type": "markdown",
   "id": "f268b74a",
   "metadata": {
    "papermill": {
     "duration": 0.004815,
     "end_time": "2024-03-06T02:07:27.561140",
     "exception": false,
     "start_time": "2024-03-06T02:07:27.556325",
     "status": "completed"
    },
    "tags": []
   },
   "source": [
    "# **Data 1 dimension**"
   ]
  },
  {
   "cell_type": "code",
   "execution_count": 1,
   "id": "f2d34912",
   "metadata": {
    "execution": {
     "iopub.execute_input": "2024-03-06T02:07:27.573025Z",
     "iopub.status.busy": "2024-03-06T02:07:27.572310Z",
     "iopub.status.idle": "2024-03-06T02:07:29.726767Z",
     "shell.execute_reply": "2024-03-06T02:07:29.725750Z"
    },
    "papermill": {
     "duration": 2.163593,
     "end_time": "2024-03-06T02:07:29.729692",
     "exception": false,
     "start_time": "2024-03-06T02:07:27.566099",
     "status": "completed"
    },
    "tags": []
   },
   "outputs": [],
   "source": [
    "import numpy as np\n",
    "import matplotlib.pyplot as plt\n",
    "from sklearn import neighbors, datasets\n",
    "import pandas as pd\n"
   ]
  },
  {
   "cell_type": "code",
   "execution_count": 5,
   "id": "9d0fb97a",
   "metadata": {
    "execution": {
     "iopub.execute_input": "2024-03-06T02:07:29.740273Z",
     "iopub.status.busy": "2024-03-06T02:07:29.739437Z",
     "iopub.status.idle": "2024-03-06T02:07:29.763872Z",
     "shell.execute_reply": "2024-03-06T02:07:29.762891Z"
    },
    "papermill": {
     "duration": 0.032755,
     "end_time": "2024-03-06T02:07:29.766904",
     "exception": false,
     "start_time": "2024-03-06T02:07:29.734149",
     "status": "completed"
    },
    "tags": []
   },
   "outputs": [
    {
     "data": {
      "text/plain": [
       "array([[1.4],\n",
       "       [1. ],\n",
       "       [1.5],\n",
       "       [3.1],\n",
       "       [3.8],\n",
       "       [4.1]])"
      ]
     },
     "execution_count": 5,
     "metadata": {},
     "output_type": "execute_result"
    }
   ],
   "source": [
    "irish_1d =  pd.read_csv('iris_1D.csv')\n",
    "#get x\n",
    "irish_x= irish_1d['Petal_Length'].to_numpy()\n",
    "irish_x=irish_x.reshape(6,1)\n",
    "irish_x"
   ]
  },
  {
   "cell_type": "code",
   "execution_count": 6,
   "id": "72568804",
   "metadata": {
    "execution": {
     "iopub.execute_input": "2024-03-06T02:07:29.777691Z",
     "iopub.status.busy": "2024-03-06T02:07:29.777327Z",
     "iopub.status.idle": "2024-03-06T02:07:29.784593Z",
     "shell.execute_reply": "2024-03-06T02:07:29.783576Z"
    },
    "papermill": {
     "duration": 0.015193,
     "end_time": "2024-03-06T02:07:29.786722",
     "exception": false,
     "start_time": "2024-03-06T02:07:29.771529",
     "status": "completed"
    },
    "tags": []
   },
   "outputs": [
    {
     "data": {
      "text/plain": [
       "array([0., 0., 0., 1., 1., 1.])"
      ]
     },
     "execution_count": 6,
     "metadata": {},
     "output_type": "execute_result"
    }
   ],
   "source": [
    "# get y\n",
    "irish_y = irish_1d['Label'].to_numpy()\n",
    "irish_y"
   ]
  },
  {
   "cell_type": "code",
   "execution_count": 7,
   "id": "6ea4ab74",
   "metadata": {
    "execution": {
     "iopub.execute_input": "2024-03-06T02:07:29.797393Z",
     "iopub.status.busy": "2024-03-06T02:07:29.796852Z",
     "iopub.status.idle": "2024-03-06T02:07:29.801067Z",
     "shell.execute_reply": "2024-03-06T02:07:29.800368Z"
    },
    "papermill": {
     "duration": 0.011749,
     "end_time": "2024-03-06T02:07:29.802949",
     "exception": false,
     "start_time": "2024-03-06T02:07:29.791200",
     "status": "completed"
    },
    "tags": []
   },
   "outputs": [],
   "source": [
    "#give x test, define y test\n",
    "x_test = [[6.4]]"
   ]
  },
  {
   "cell_type": "code",
   "execution_count": 8,
   "id": "f8845283",
   "metadata": {
    "execution": {
     "iopub.execute_input": "2024-03-06T02:07:29.813475Z",
     "iopub.status.busy": "2024-03-06T02:07:29.812973Z",
     "iopub.status.idle": "2024-03-06T02:07:29.824668Z",
     "shell.execute_reply": "2024-03-06T02:07:29.823661Z"
    },
    "papermill": {
     "duration": 0.019038,
     "end_time": "2024-03-06T02:07:29.826527",
     "exception": false,
     "start_time": "2024-03-06T02:07:29.807489",
     "status": "completed"
    },
    "tags": []
   },
   "outputs": [
    {
     "data": {
      "text/html": [
       "<style>#sk-container-id-1 {color: black;}#sk-container-id-1 pre{padding: 0;}#sk-container-id-1 div.sk-toggleable {background-color: white;}#sk-container-id-1 label.sk-toggleable__label {cursor: pointer;display: block;width: 100%;margin-bottom: 0;padding: 0.3em;box-sizing: border-box;text-align: center;}#sk-container-id-1 label.sk-toggleable__label-arrow:before {content: \"▸\";float: left;margin-right: 0.25em;color: #696969;}#sk-container-id-1 label.sk-toggleable__label-arrow:hover:before {color: black;}#sk-container-id-1 div.sk-estimator:hover label.sk-toggleable__label-arrow:before {color: black;}#sk-container-id-1 div.sk-toggleable__content {max-height: 0;max-width: 0;overflow: hidden;text-align: left;background-color: #f0f8ff;}#sk-container-id-1 div.sk-toggleable__content pre {margin: 0.2em;color: black;border-radius: 0.25em;background-color: #f0f8ff;}#sk-container-id-1 input.sk-toggleable__control:checked~div.sk-toggleable__content {max-height: 200px;max-width: 100%;overflow: auto;}#sk-container-id-1 input.sk-toggleable__control:checked~label.sk-toggleable__label-arrow:before {content: \"▾\";}#sk-container-id-1 div.sk-estimator input.sk-toggleable__control:checked~label.sk-toggleable__label {background-color: #d4ebff;}#sk-container-id-1 div.sk-label input.sk-toggleable__control:checked~label.sk-toggleable__label {background-color: #d4ebff;}#sk-container-id-1 input.sk-hidden--visually {border: 0;clip: rect(1px 1px 1px 1px);clip: rect(1px, 1px, 1px, 1px);height: 1px;margin: -1px;overflow: hidden;padding: 0;position: absolute;width: 1px;}#sk-container-id-1 div.sk-estimator {font-family: monospace;background-color: #f0f8ff;border: 1px dotted black;border-radius: 0.25em;box-sizing: border-box;margin-bottom: 0.5em;}#sk-container-id-1 div.sk-estimator:hover {background-color: #d4ebff;}#sk-container-id-1 div.sk-parallel-item::after {content: \"\";width: 100%;border-bottom: 1px solid gray;flex-grow: 1;}#sk-container-id-1 div.sk-label:hover label.sk-toggleable__label {background-color: #d4ebff;}#sk-container-id-1 div.sk-serial::before {content: \"\";position: absolute;border-left: 1px solid gray;box-sizing: border-box;top: 0;bottom: 0;left: 50%;z-index: 0;}#sk-container-id-1 div.sk-serial {display: flex;flex-direction: column;align-items: center;background-color: white;padding-right: 0.2em;padding-left: 0.2em;position: relative;}#sk-container-id-1 div.sk-item {position: relative;z-index: 1;}#sk-container-id-1 div.sk-parallel {display: flex;align-items: stretch;justify-content: center;background-color: white;position: relative;}#sk-container-id-1 div.sk-item::before, #sk-container-id-1 div.sk-parallel-item::before {content: \"\";position: absolute;border-left: 1px solid gray;box-sizing: border-box;top: 0;bottom: 0;left: 50%;z-index: -1;}#sk-container-id-1 div.sk-parallel-item {display: flex;flex-direction: column;z-index: 1;position: relative;background-color: white;}#sk-container-id-1 div.sk-parallel-item:first-child::after {align-self: flex-end;width: 50%;}#sk-container-id-1 div.sk-parallel-item:last-child::after {align-self: flex-start;width: 50%;}#sk-container-id-1 div.sk-parallel-item:only-child::after {width: 0;}#sk-container-id-1 div.sk-dashed-wrapped {border: 1px dashed gray;margin: 0 0.4em 0.5em 0.4em;box-sizing: border-box;padding-bottom: 0.4em;background-color: white;}#sk-container-id-1 div.sk-label label {font-family: monospace;font-weight: bold;display: inline-block;line-height: 1.2em;}#sk-container-id-1 div.sk-label-container {text-align: center;}#sk-container-id-1 div.sk-container {/* jupyter's `normalize.less` sets `[hidden] { display: none; }` but bootstrap.min.css set `[hidden] { display: none !important; }` so we also need the `!important` here to be able to override the default hidden behavior on the sphinx rendered scikit-learn.org. See: https://github.com/scikit-learn/scikit-learn/issues/21755 */display: inline-block !important;position: relative;}#sk-container-id-1 div.sk-text-repr-fallback {display: none;}</style><div id=\"sk-container-id-1\" class=\"sk-top-container\"><div class=\"sk-text-repr-fallback\"><pre>KNeighborsClassifier(n_neighbors=3)</pre><b>In a Jupyter environment, please rerun this cell to show the HTML representation or trust the notebook. <br />On GitHub, the HTML representation is unable to render, please try loading this page with nbviewer.org.</b></div><div class=\"sk-container\" hidden><div class=\"sk-item\"><div class=\"sk-estimator sk-toggleable\"><input class=\"sk-toggleable__control sk-hidden--visually\" id=\"sk-estimator-id-1\" type=\"checkbox\" checked><label for=\"sk-estimator-id-1\" class=\"sk-toggleable__label sk-toggleable__label-arrow\">KNeighborsClassifier</label><div class=\"sk-toggleable__content\"><pre>KNeighborsClassifier(n_neighbors=3)</pre></div></div></div></div></div>"
      ],
      "text/plain": [
       "KNeighborsClassifier(n_neighbors=3)"
      ]
     },
     "execution_count": 8,
     "metadata": {},
     "output_type": "execute_result"
    }
   ],
   "source": [
    "# get model With K is odd\n",
    "from sklearn.neighbors import KNeighborsClassifier\n",
    "\n",
    "classifier = KNeighborsClassifier(n_neighbors=3)\n",
    "classifier.fit(irish_x, irish_y)"
   ]
  },
  {
   "cell_type": "code",
   "execution_count": 9,
   "id": "f4c76489",
   "metadata": {
    "execution": {
     "iopub.execute_input": "2024-03-06T02:07:29.837743Z",
     "iopub.status.busy": "2024-03-06T02:07:29.837241Z",
     "iopub.status.idle": "2024-03-06T02:07:29.889811Z",
     "shell.execute_reply": "2024-03-06T02:07:29.888938Z"
    },
    "papermill": {
     "duration": 0.061021,
     "end_time": "2024-03-06T02:07:29.892167",
     "exception": false,
     "start_time": "2024-03-06T02:07:29.831146",
     "status": "completed"
    },
    "tags": []
   },
   "outputs": [
    {
     "name": "stdout",
     "output_type": "stream",
     "text": [
      "[1.]\n"
     ]
    }
   ],
   "source": [
    "y_pred = classifier.predict(x_test)\n",
    "print(y_pred)"
   ]
  },
  {
   "cell_type": "code",
   "execution_count": 10,
   "id": "9f438d68",
   "metadata": {
    "execution": {
     "iopub.execute_input": "2024-03-06T02:07:29.903974Z",
     "iopub.status.busy": "2024-03-06T02:07:29.903335Z",
     "iopub.status.idle": "2024-03-06T02:07:29.912880Z",
     "shell.execute_reply": "2024-03-06T02:07:29.912053Z"
    },
    "papermill": {
     "duration": 0.017502,
     "end_time": "2024-03-06T02:07:29.914977",
     "exception": false,
     "start_time": "2024-03-06T02:07:29.897475",
     "status": "completed"
    },
    "tags": []
   },
   "outputs": [
    {
     "name": "stdout",
     "output_type": "stream",
     "text": [
      "(array([[2.3, 2.6, 3.3, 4.9, 5. , 5.4]]), array([[5, 4, 3, 2, 0, 1]]))\n"
     ]
    }
   ],
   "source": [
    "# get model With K is even\n",
    "from sklearn.neighbors import KNeighborsClassifier\n",
    "\n",
    "classifier = KNeighborsClassifier(n_neighbors=6)\n",
    "classifier.fit(irish_x, irish_y)\n",
    "y_pred = classifier.kneighbors(x_test)\n",
    "print(y_pred)\n",
    "\n"
   ]
  },
  {
   "cell_type": "code",
   "execution_count": 11,
   "id": "63c02929",
   "metadata": {
    "execution": {
     "iopub.execute_input": "2024-03-06T02:07:29.926335Z",
     "iopub.status.busy": "2024-03-06T02:07:29.925962Z",
     "iopub.status.idle": "2024-03-06T02:07:29.931843Z",
     "shell.execute_reply": "2024-03-06T02:07:29.931187Z"
    },
    "papermill": {
     "duration": 0.013768,
     "end_time": "2024-03-06T02:07:29.933667",
     "exception": false,
     "start_time": "2024-03-06T02:07:29.919899",
     "status": "completed"
    },
    "tags": []
   },
   "outputs": [
    {
     "data": {
      "text/plain": [
       "1.0"
      ]
     },
     "execution_count": 11,
     "metadata": {},
     "output_type": "execute_result"
    }
   ],
   "source": [
    "classifier.classes_[classifier._y[3]] #tại sao y[3]"
   ]
  },
  {
   "cell_type": "markdown",
   "id": "9326da56",
   "metadata": {
    "papermill": {
     "duration": 0.004629,
     "end_time": "2024-03-06T02:07:29.943339",
     "exception": false,
     "start_time": "2024-03-06T02:07:29.938710",
     "status": "completed"
    },
    "tags": []
   },
   "source": [
    "# Data with 2 dimension"
   ]
  },
  {
   "cell_type": "code",
   "execution_count": 9,
   "id": "a9846be6",
   "metadata": {
    "execution": {
     "iopub.execute_input": "2024-03-06T02:07:29.955318Z",
     "iopub.status.busy": "2024-03-06T02:07:29.954395Z",
     "iopub.status.idle": "2024-03-06T02:07:29.974877Z",
     "shell.execute_reply": "2024-03-06T02:07:29.974018Z"
    },
    "papermill": {
     "duration": 0.028835,
     "end_time": "2024-03-06T02:07:29.977049",
     "exception": false,
     "start_time": "2024-03-06T02:07:29.948214",
     "status": "completed"
    },
    "tags": []
   },
   "outputs": [
    {
     "data": {
      "text/html": [
       "<div>\n",
       "<style scoped>\n",
       "    .dataframe tbody tr th:only-of-type {\n",
       "        vertical-align: middle;\n",
       "    }\n",
       "\n",
       "    .dataframe tbody tr th {\n",
       "        vertical-align: top;\n",
       "    }\n",
       "\n",
       "    .dataframe thead th {\n",
       "        text-align: right;\n",
       "    }\n",
       "</style>\n",
       "<table border=\"1\" class=\"dataframe\">\n",
       "  <thead>\n",
       "    <tr style=\"text-align: right;\">\n",
       "      <th></th>\n",
       "      <th>Petal_Length</th>\n",
       "      <th>Petal_Width</th>\n",
       "      <th>Label</th>\n",
       "    </tr>\n",
       "  </thead>\n",
       "  <tbody>\n",
       "    <tr>\n",
       "      <th>0</th>\n",
       "      <td>1.4</td>\n",
       "      <td>0.2</td>\n",
       "      <td>0.0</td>\n",
       "    </tr>\n",
       "    <tr>\n",
       "      <th>1</th>\n",
       "      <td>1.3</td>\n",
       "      <td>0.4</td>\n",
       "      <td>0.0</td>\n",
       "    </tr>\n",
       "    <tr>\n",
       "      <th>2</th>\n",
       "      <td>1.4</td>\n",
       "      <td>0.3</td>\n",
       "      <td>0.0</td>\n",
       "    </tr>\n",
       "    <tr>\n",
       "      <th>3</th>\n",
       "      <td>4.0</td>\n",
       "      <td>1.0</td>\n",
       "      <td>1.0</td>\n",
       "    </tr>\n",
       "    <tr>\n",
       "      <th>4</th>\n",
       "      <td>4.7</td>\n",
       "      <td>1.4</td>\n",
       "      <td>1.0</td>\n",
       "    </tr>\n",
       "    <tr>\n",
       "      <th>5</th>\n",
       "      <td>3.6</td>\n",
       "      <td>1.3</td>\n",
       "      <td>1.0</td>\n",
       "    </tr>\n",
       "  </tbody>\n",
       "</table>\n",
       "</div>"
      ],
      "text/plain": [
       "   Petal_Length  Petal_Width  Label\n",
       "0           1.4          0.2    0.0\n",
       "1           1.3          0.4    0.0\n",
       "2           1.4          0.3    0.0\n",
       "3           4.0          1.0    1.0\n",
       "4           4.7          1.4    1.0\n",
       "5           3.6          1.3    1.0"
      ]
     },
     "execution_count": 9,
     "metadata": {},
     "output_type": "execute_result"
    }
   ],
   "source": [
    "irish_2d = pd.read_csv('/kaggle/input/knn-aio/iris_2D.csv')\n",
    "irish_2d\n"
   ]
  },
  {
   "cell_type": "code",
   "execution_count": 10,
   "id": "2fa36502",
   "metadata": {
    "execution": {
     "iopub.execute_input": "2024-03-06T02:07:29.989685Z",
     "iopub.status.busy": "2024-03-06T02:07:29.989032Z",
     "iopub.status.idle": "2024-03-06T02:07:29.999071Z",
     "shell.execute_reply": "2024-03-06T02:07:29.997895Z"
    },
    "papermill": {
     "duration": 0.018715,
     "end_time": "2024-03-06T02:07:30.001158",
     "exception": false,
     "start_time": "2024-03-06T02:07:29.982443",
     "status": "completed"
    },
    "tags": []
   },
   "outputs": [
    {
     "name": "stdout",
     "output_type": "stream",
     "text": [
      "[[1.4 0.2]\n",
      " [1.3 0.4]\n",
      " [1.4 0.3]\n",
      " [4.  1. ]\n",
      " [4.7 1.4]\n",
      " [3.6 1.3]]\n"
     ]
    }
   ],
   "source": [
    "# get x feature\n",
    "irish_2d_x = irish_2d[['Petal_Length', 'Petal_Width']].to_numpy()\n",
    "irish_2d_x = irish_2d_x.reshape(6, 2)\n",
    "print(irish_2d_x)"
   ]
  },
  {
   "cell_type": "code",
   "execution_count": 11,
   "id": "81916311",
   "metadata": {
    "execution": {
     "iopub.execute_input": "2024-03-06T02:07:30.012924Z",
     "iopub.status.busy": "2024-03-06T02:07:30.012607Z",
     "iopub.status.idle": "2024-03-06T02:07:30.016587Z",
     "shell.execute_reply": "2024-03-06T02:07:30.015582Z"
    },
    "papermill": {
     "duration": 0.012325,
     "end_time": "2024-03-06T02:07:30.018658",
     "exception": false,
     "start_time": "2024-03-06T02:07:30.006333",
     "status": "completed"
    },
    "tags": []
   },
   "outputs": [],
   "source": [
    "# give x unknown\n",
    "x_2d_test = [[2.6,0.7]]"
   ]
  },
  {
   "cell_type": "code",
   "execution_count": 12,
   "id": "58ec066e",
   "metadata": {
    "execution": {
     "iopub.execute_input": "2024-03-06T02:07:30.030685Z",
     "iopub.status.busy": "2024-03-06T02:07:30.030312Z",
     "iopub.status.idle": "2024-03-06T02:07:30.037295Z",
     "shell.execute_reply": "2024-03-06T02:07:30.036110Z"
    },
    "papermill": {
     "duration": 0.015423,
     "end_time": "2024-03-06T02:07:30.039271",
     "exception": false,
     "start_time": "2024-03-06T02:07:30.023848",
     "status": "completed"
    },
    "tags": []
   },
   "outputs": [
    {
     "data": {
      "text/plain": [
       "array([0., 0., 0., 1., 1., 1.])"
      ]
     },
     "execution_count": 12,
     "metadata": {},
     "output_type": "execute_result"
    }
   ],
   "source": [
    "# get y\n",
    "irish_2d_y = irish_2d['Label'].to_numpy()\n",
    "irish_2d_y"
   ]
  },
  {
   "cell_type": "code",
   "execution_count": 13,
   "id": "deb0fa12",
   "metadata": {
    "execution": {
     "iopub.execute_input": "2024-03-06T02:07:30.051261Z",
     "iopub.status.busy": "2024-03-06T02:07:30.050925Z",
     "iopub.status.idle": "2024-03-06T02:07:30.058839Z",
     "shell.execute_reply": "2024-03-06T02:07:30.058021Z"
    },
    "papermill": {
     "duration": 0.016326,
     "end_time": "2024-03-06T02:07:30.060885",
     "exception": false,
     "start_time": "2024-03-06T02:07:30.044559",
     "status": "completed"
    },
    "tags": []
   },
   "outputs": [
    {
     "data": {
      "text/html": [
       "<style>#sk-container-id-2 {color: black;background-color: white;}#sk-container-id-2 pre{padding: 0;}#sk-container-id-2 div.sk-toggleable {background-color: white;}#sk-container-id-2 label.sk-toggleable__label {cursor: pointer;display: block;width: 100%;margin-bottom: 0;padding: 0.3em;box-sizing: border-box;text-align: center;}#sk-container-id-2 label.sk-toggleable__label-arrow:before {content: \"▸\";float: left;margin-right: 0.25em;color: #696969;}#sk-container-id-2 label.sk-toggleable__label-arrow:hover:before {color: black;}#sk-container-id-2 div.sk-estimator:hover label.sk-toggleable__label-arrow:before {color: black;}#sk-container-id-2 div.sk-toggleable__content {max-height: 0;max-width: 0;overflow: hidden;text-align: left;background-color: #f0f8ff;}#sk-container-id-2 div.sk-toggleable__content pre {margin: 0.2em;color: black;border-radius: 0.25em;background-color: #f0f8ff;}#sk-container-id-2 input.sk-toggleable__control:checked~div.sk-toggleable__content {max-height: 200px;max-width: 100%;overflow: auto;}#sk-container-id-2 input.sk-toggleable__control:checked~label.sk-toggleable__label-arrow:before {content: \"▾\";}#sk-container-id-2 div.sk-estimator input.sk-toggleable__control:checked~label.sk-toggleable__label {background-color: #d4ebff;}#sk-container-id-2 div.sk-label input.sk-toggleable__control:checked~label.sk-toggleable__label {background-color: #d4ebff;}#sk-container-id-2 input.sk-hidden--visually {border: 0;clip: rect(1px 1px 1px 1px);clip: rect(1px, 1px, 1px, 1px);height: 1px;margin: -1px;overflow: hidden;padding: 0;position: absolute;width: 1px;}#sk-container-id-2 div.sk-estimator {font-family: monospace;background-color: #f0f8ff;border: 1px dotted black;border-radius: 0.25em;box-sizing: border-box;margin-bottom: 0.5em;}#sk-container-id-2 div.sk-estimator:hover {background-color: #d4ebff;}#sk-container-id-2 div.sk-parallel-item::after {content: \"\";width: 100%;border-bottom: 1px solid gray;flex-grow: 1;}#sk-container-id-2 div.sk-label:hover label.sk-toggleable__label {background-color: #d4ebff;}#sk-container-id-2 div.sk-serial::before {content: \"\";position: absolute;border-left: 1px solid gray;box-sizing: border-box;top: 0;bottom: 0;left: 50%;z-index: 0;}#sk-container-id-2 div.sk-serial {display: flex;flex-direction: column;align-items: center;background-color: white;padding-right: 0.2em;padding-left: 0.2em;position: relative;}#sk-container-id-2 div.sk-item {position: relative;z-index: 1;}#sk-container-id-2 div.sk-parallel {display: flex;align-items: stretch;justify-content: center;background-color: white;position: relative;}#sk-container-id-2 div.sk-item::before, #sk-container-id-2 div.sk-parallel-item::before {content: \"\";position: absolute;border-left: 1px solid gray;box-sizing: border-box;top: 0;bottom: 0;left: 50%;z-index: -1;}#sk-container-id-2 div.sk-parallel-item {display: flex;flex-direction: column;z-index: 1;position: relative;background-color: white;}#sk-container-id-2 div.sk-parallel-item:first-child::after {align-self: flex-end;width: 50%;}#sk-container-id-2 div.sk-parallel-item:last-child::after {align-self: flex-start;width: 50%;}#sk-container-id-2 div.sk-parallel-item:only-child::after {width: 0;}#sk-container-id-2 div.sk-dashed-wrapped {border: 1px dashed gray;margin: 0 0.4em 0.5em 0.4em;box-sizing: border-box;padding-bottom: 0.4em;background-color: white;}#sk-container-id-2 div.sk-label label {font-family: monospace;font-weight: bold;display: inline-block;line-height: 1.2em;}#sk-container-id-2 div.sk-label-container {text-align: center;}#sk-container-id-2 div.sk-container {/* jupyter's `normalize.less` sets `[hidden] { display: none; }` but bootstrap.min.css set `[hidden] { display: none !important; }` so we also need the `!important` here to be able to override the default hidden behavior on the sphinx rendered scikit-learn.org. See: https://github.com/scikit-learn/scikit-learn/issues/21755 */display: inline-block !important;position: relative;}#sk-container-id-2 div.sk-text-repr-fallback {display: none;}</style><div id=\"sk-container-id-2\" class=\"sk-top-container\"><div class=\"sk-text-repr-fallback\"><pre>KNeighborsClassifier(n_neighbors=6)</pre><b>In a Jupyter environment, please rerun this cell to show the HTML representation or trust the notebook. <br />On GitHub, the HTML representation is unable to render, please try loading this page with nbviewer.org.</b></div><div class=\"sk-container\" hidden><div class=\"sk-item\"><div class=\"sk-estimator sk-toggleable\"><input class=\"sk-toggleable__control sk-hidden--visually\" id=\"sk-estimator-id-2\" type=\"checkbox\" checked><label for=\"sk-estimator-id-2\" class=\"sk-toggleable__label sk-toggleable__label-arrow\">KNeighborsClassifier</label><div class=\"sk-toggleable__content\"><pre>KNeighborsClassifier(n_neighbors=6)</pre></div></div></div></div></div>"
      ],
      "text/plain": [
       "KNeighborsClassifier(n_neighbors=6)"
      ]
     },
     "execution_count": 13,
     "metadata": {},
     "output_type": "execute_result"
    }
   ],
   "source": [
    "# get model\n",
    "from sklearn.neighbors import KNeighborsClassifier\n",
    "\n",
    "classifier = KNeighborsClassifier(n_neighbors=6)\n",
    "classifier.fit(irish_2d_x, irish_2d_y)"
   ]
  },
  {
   "cell_type": "code",
   "execution_count": 14,
   "id": "13388ed7",
   "metadata": {
    "execution": {
     "iopub.execute_input": "2024-03-06T02:07:30.074683Z",
     "iopub.status.busy": "2024-03-06T02:07:30.073430Z",
     "iopub.status.idle": "2024-03-06T02:07:30.085387Z",
     "shell.execute_reply": "2024-03-06T02:07:30.084527Z"
    },
    "papermill": {
     "duration": 0.020919,
     "end_time": "2024-03-06T02:07:30.087494",
     "exception": false,
     "start_time": "2024-03-06T02:07:30.066575",
     "status": "completed"
    },
    "tags": []
   },
   "outputs": [
    {
     "name": "stdout",
     "output_type": "stream",
     "text": [
      "[0.]\n"
     ]
    }
   ],
   "source": [
    "y_pred = classifier.predict(x_2d_test)\n",
    "print(y_pred)"
   ]
  },
  {
   "cell_type": "code",
   "execution_count": 15,
   "id": "c2cc97ef",
   "metadata": {
    "execution": {
     "iopub.execute_input": "2024-03-06T02:07:30.101552Z",
     "iopub.status.busy": "2024-03-06T02:07:30.101147Z",
     "iopub.status.idle": "2024-03-06T02:07:45.144385Z",
     "shell.execute_reply": "2024-03-06T02:07:45.143428Z"
    },
    "papermill": {
     "duration": 15.052404,
     "end_time": "2024-03-06T02:07:45.146754",
     "exception": false,
     "start_time": "2024-03-06T02:07:30.094350",
     "status": "completed"
    },
    "tags": []
   },
   "outputs": [
    {
     "name": "stderr",
     "output_type": "stream",
     "text": [
      "2024-03-06 02:07:35.186382: E external/local_xla/xla/stream_executor/cuda/cuda_dnn.cc:9261] Unable to register cuDNN factory: Attempting to register factory for plugin cuDNN when one has already been registered\n",
      "2024-03-06 02:07:35.186497: E external/local_xla/xla/stream_executor/cuda/cuda_fft.cc:607] Unable to register cuFFT factory: Attempting to register factory for plugin cuFFT when one has already been registered\n",
      "2024-03-06 02:07:35.330829: E external/local_xla/xla/stream_executor/cuda/cuda_blas.cc:1515] Unable to register cuBLAS factory: Attempting to register factory for plugin cuBLAS when one has already been registered\n"
     ]
    },
    {
     "name": "stdout",
     "output_type": "stream",
     "text": [
      "tf.Tensor([-25 -56 -87], shape=(3,), dtype=int32)\n",
      "tensor(32)\n"
     ]
    }
   ],
   "source": [
    "# test code, no relevant KNN\n",
    "import numpy as np\n",
    "import torch\n",
    "import tensorflow as tf\n",
    "a = np.array([1,2,3])\n",
    "b = torch.tensor([4,5,6])\n",
    "c = tf.constant([7,8,9])\n",
    "\n",
    "r = c - (b@a)*a\n",
    "print(r)\n",
    "d=b@a\n",
    "print(d)"
   ]
  }
 ],
 "metadata": {
  "kaggle": {
   "accelerator": "none",
   "dataSources": [
    {
     "datasetId": 4540410,
     "sourceId": 7763238,
     "sourceType": "datasetVersion"
    }
   ],
   "dockerImageVersionId": 30664,
   "isGpuEnabled": false,
   "isInternetEnabled": true,
   "language": "python",
   "sourceType": "notebook"
  },
  "kernelspec": {
   "display_name": "Python 3",
   "language": "python",
   "name": "python3"
  },
  "language_info": {
   "codemirror_mode": {
    "name": "ipython",
    "version": 3
   },
   "file_extension": ".py",
   "mimetype": "text/x-python",
   "name": "python",
   "nbconvert_exporter": "python",
   "pygments_lexer": "ipython3",
   "version": "3.11.5"
  },
  "papermill": {
   "default_parameters": {},
   "duration": 23.013596,
   "end_time": "2024-03-06T02:07:47.942137",
   "environment_variables": {},
   "exception": null,
   "input_path": "__notebook__.ipynb",
   "output_path": "__notebook__.ipynb",
   "parameters": {},
   "start_time": "2024-03-06T02:07:24.928541",
   "version": "2.5.0"
  }
 },
 "nbformat": 4,
 "nbformat_minor": 5
}
