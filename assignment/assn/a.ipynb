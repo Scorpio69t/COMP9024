{
 "cells": [
  {
   "cell_type": "code",
   "execution_count": 1,
   "metadata": {},
   "outputs": [
    {
     "name": "stdout",
     "output_type": "stream",
     "text": [
      "{'A': 0.4122056373468108, 'B': 0.19593145421772973, 'C': 0.19593145421772973, 'D': 0.19593145421772973}\n"
     ]
    }
   ],
   "source": [
    "oldrank = {'A': 0, 'B': 0, 'C': 0, \"D\": 0}\n",
    "pagerank = {'A': 1/4, 'B': 1/4, 'C': 1/4, 'D': 1/4}\n",
    "adj = {\"A\": [\"B\", \"C\", \"D\"], \"B\": [\"A\"], \"C\" : [\"A\"]}\n",
    "\n",
    "while min([abs(pagerank[node] - oldrank[node]) for node in ['A', 'B', 'C', \"D\"]]) > 0.00001:\n",
    "    for node in ['A', 'B', 'C', \"D\"]:\n",
    "        oldrank[node] = pagerank[node]\n",
    "    Sink = 0\n",
    "    for node in [\"D\"]:\n",
    "        Sink = Sink + (0.85*(oldrank[node]/4))\n",
    "    for node in ['A', 'B', 'C', \"D\"]:\n",
    "        pagerank[node] = Sink + (1-0.85)/4\n",
    "        for n in ['A', 'B', 'C', \"D\"]:\n",
    "            iss = adj.get(n, [])\n",
    "            if node in iss:\n",
    "                pagerank[node] = pagerank[node] + (0.85*oldrank[n]/len(iss))\n",
    "print(pagerank)\n"
   ]
  }
 ],
 "metadata": {
  "kernelspec": {
   "display_name": "base",
   "language": "python",
   "name": "python3"
  },
  "language_info": {
   "codemirror_mode": {
    "name": "ipython",
    "version": 3
   },
   "file_extension": ".py",
   "mimetype": "text/x-python",
   "name": "python",
   "nbconvert_exporter": "python",
   "pygments_lexer": "ipython3",
   "version": "3.11.5"
  }
 },
 "nbformat": 4,
 "nbformat_minor": 2
}
